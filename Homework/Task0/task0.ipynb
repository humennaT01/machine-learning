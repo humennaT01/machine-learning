{
 "metadata": {
  "language_info": {
   "codemirror_mode": {
    "name": "ipython",
    "version": 3
   },
   "file_extension": ".py",
   "mimetype": "text/x-python",
   "name": "python",
   "nbconvert_exporter": "python",
   "pygments_lexer": "ipython3",
   "version": "3.8.0-final"
  },
  "orig_nbformat": 2,
  "kernelspec": {
   "name": "python3",
   "display_name": "Python 3.8.0 64-bit",
   "metadata": {
    "interpreter": {
     "hash": "c627be1547c7c874688ddee1aaaa67b367275f1752d282bff5eb427acd241334"
    }
   }
  }
 },
 "nbformat": 4,
 "nbformat_minor": 2,
 "cells": [
  {
   "source": [
    "**Task_0**\n",
    "- Calculate time for matrix multiplication using custom function and numpy package"
   ],
   "cell_type": "markdown",
   "metadata": {}
  },
  {
   "cell_type": "code",
   "execution_count": 1,
   "metadata": {},
   "outputs": [],
   "source": [
    "import numpy as np\n",
    "import time"
   ]
  },
  {
   "cell_type": "code",
   "execution_count": 2,
   "metadata": {},
   "outputs": [],
   "source": [
    "def Multiply (m1, m2):\n",
    "  result = []\n",
    "  for i in range (len(m1)):\n",
    "    l=[]\n",
    "    for j in range (len(m2[0])):\n",
    "      s = 0\n",
    "      for k in range (len(m1[i])):\n",
    "        s += m1[i][k] * m2[k][j]\n",
    "      l.append(s)\n",
    "    result.append(l)\n",
    "  return result"
   ]
  },
  {
   "cell_type": "code",
   "execution_count": 3,
   "metadata": {},
   "outputs": [],
   "source": [
    "matrix1 = np.random.rand(500, 500)\n",
    "matrix2 = np.random.rand(500, 500)"
   ]
  },
  {
   "source": [
    "Matrix multiplication using custom function:"
   ],
   "cell_type": "markdown",
   "metadata": {}
  },
  {
   "cell_type": "code",
   "execution_count": 4,
   "metadata": {},
   "outputs": [],
   "source": [
    "start = time.time()\n",
    "result = Multiply(matrix1, matrix2)\n",
    "finish = time.time()"
   ]
  },
  {
   "source": [
    "Matrix multiplication using numpy package:"
   ],
   "cell_type": "markdown",
   "metadata": {}
  },
  {
   "cell_type": "code",
   "execution_count": 5,
   "metadata": {},
   "outputs": [],
   "source": [
    "start_numpy = time.time()\n",
    "result_numpy = np.dot(matrix1, matrix2)\n",
    "finish_numpy = time.time()"
   ]
  },
  {
   "cell_type": "code",
   "execution_count": 6,
   "metadata": {},
   "outputs": [
    {
     "output_type": "stream",
     "name": "stdout",
     "text": [
      "-----Results:-----\nTime <custom function>: 72.40717554092407\nTime <numpy package>: 0.00498652458190918\n"
     ]
    }
   ],
   "source": [
    "time_custom_func = finish - start\n",
    "time_numpy = finish_numpy - start_numpy\n",
    "\n",
    "print(\"-----Results:-----\")\n",
    "print(\"Time <custom function>: \" + str(time_custom_func))\n",
    "print(\"Time <numpy package>: \" + str(time_numpy))"
   ]
  }
 ]
}