{
 "cells": [
  {
   "cell_type": "code",
   "execution_count": 1,
   "metadata": {},
   "outputs": [],
   "source": [
    "import numpy as np\n",
    "import pandas as pd\n",
    "from sklearn.model_selection import train_test_split\n",
    "from mpl_toolkits.mplot3d import Axes3D\n",
    "import matplotlib.pyplot as plt\n",
    "\n",
    "from matplotlib.colors import ListedColormap\n",
    "cm_bright = ListedColormap(['#FF0000', '#0000FF'])\n",
    "%matplotlib inline\n",
    "from sklearn.metrics import accuracy_score\n",
    "\n",
    "import sklearn.linear_model"
   ]
  },
  {
   "cell_type": "code",
   "execution_count": 2,
   "metadata": {},
   "outputs": [],
   "source": [
    "def plot_surface(cls, x_1, x_2, ax=None, threshold=0.5, contourf=False):\n",
    "    xx1, xx2 = np.meshgrid(np.linspace(x_1.min(), x_1.max(), 100), \n",
    "                           np.linspace(x_2.min(), x_2.max(), 100))\n",
    "\n",
    "    X_pred = np.c_[xx1.ravel(), xx2.ravel()]\n",
    "    pred = cls.predict_proba(X_pred)[:, 0]\n",
    "    Z = pred.reshape((100, 100))\n",
    "    if ax is None:\n",
    "        ax = plt.gca()\n",
    "    ax.contour(xx1, xx2, Z, levels=[threshold], colors='black')\n",
    "    ax.set_xlim((x_1.min(), x_1.max()))\n",
    "    ax.set_ylim((x_2.min(), x_2.max()))"
   ]
  },
  {
   "cell_type": "code",
   "execution_count": 3,
   "metadata": {},
   "outputs": [],
   "source": [
    "def plot_data(X, y):\n",
    "    ax = plt.gca()\n",
    "    ax.scatter(X[:,0], X[:,1], c=(y == 1), cmap=cm_bright)"
   ]
  },
  {
   "cell_type": "code",
   "execution_count": 4,
   "metadata": {},
   "outputs": [],
   "source": [
    "class NeuralNet:\n",
    "   \n",
    "    def __init__(self, normalize = True, learning_rate = 0.01, num_iter = 30000, hidden_layer_sizes =(4,4), tol=1e-6, notimp_iters=200 ):\n",
    "        self.learning_rate = learning_rate\n",
    "        self.num_iter = num_iter\n",
    "        self.normalize = normalize\n",
    "        self.hidden_layer_sizes =hidden_layer_sizes;\n",
    "        self.tol =tol;\n",
    "        self.num_layers =len(hidden_layer_sizes);\n",
    "        self.notimp_iters = notimp_iters\n",
    "        \n",
    "        \n",
    "    def __softmax(self, Z):\n",
    "        return np.exp(Z)/np.sum(np.exp(Z))\n",
    "        \n",
    "    \n",
    "    def __normalize(self, X, mean = None, std = None):\n",
    "    \n",
    "        n = X.shape[0]\n",
    "        m = mean\n",
    "        if m is None:\n",
    "            m = np.mean(X, axis=1).reshape((n, 1))\n",
    "        s = std\n",
    "        if s is None:\n",
    "            s = np.std(X, axis=1).reshape((n, 1))\n",
    "        X_new = (X - m) / s**2\n",
    "        return X_new, m, s\n",
    "\n",
    "    \n",
    "    def __sigmoid(self, Z):\n",
    "        return 1 / (1 + np.exp(-Z))\n",
    "    \n",
    "    \n",
    "    def __initialize_parameters(self, n_x, n_arr):\n",
    "        W_arr =[];\n",
    "        b_arr =[];\n",
    "       \n",
    "        W1 = np.random.randn(n_arr[0], n_x)*0.01;\n",
    "        b1 = np.zeros((n_arr[0], 1));\n",
    "        W_arr.append(W1);\n",
    "        b_arr.append(b1);\n",
    "        \n",
    "        for n_l in range(1,len(n_arr)):\n",
    "            W_temp =np.random.randn(n_arr[n_l], n_arr[n_l-1]) * 0.01;\n",
    "            b_temp = np.zeros((n_arr[n_l], 1));\n",
    "            W_arr.append(W_temp);\n",
    "            b_arr.append(b_temp);\n",
    "        \n",
    "        W2 =np.random.randn(1, n_arr[len(n_arr)-1]) * 0.01\n",
    "        b2 = 0;\n",
    "        \n",
    "        W_arr.append(W2);\n",
    "        b_arr.append(b2);\n",
    "    \n",
    "        self.parameters = {\"W_arr\" : W_arr, \"b_arr\" : b_arr}\n",
    "       \n",
    "    \n",
    "    def __forward_propagation(self, X):\n",
    "        W_arr =self.parameters[\"W_arr\"]\n",
    "        b_arr = self.parameters[\"b_arr\"]\n",
    "        \n",
    "        W1 = W_arr[0];\n",
    "        b1 = b_arr[0];\n",
    "        \n",
    "        W2 =W_arr[len(W_arr)-1];\n",
    "        b2 =b_arr[len(b_arr)-1];\n",
    "        \n",
    "        Z_arr =[];\n",
    "        A_arr =[];\n",
    "        \n",
    "        Z1 =np.dot(W1,X)+b1;\n",
    "        A1 = self.__sigmoid(Z1);\n",
    "        \n",
    "        Z_arr.append(Z1);\n",
    "        A_arr.append(A1);\n",
    "        \n",
    "        for l in range(1,self.num_layers):\n",
    "            Z_temp = np.dot(W_arr[l],A_arr[l-1])+b_arr[l];\n",
    "            A_temp = self.__sigmoid(Z_temp);\n",
    "            Z_arr.append(Z_temp);\n",
    "            A_arr.append(A_temp);\n",
    "\n",
    "        Z_temp = np.dot(W_arr[self.num_layers],A_arr[self.num_layers-1])+b_arr[self.num_layers];\n",
    "        A_temp = self.__softmax(Z_temp);\n",
    "        Z_arr.append(Z_temp);\n",
    "        A_arr.append(A_temp);\n",
    "        cache =(W_arr,b_arr,Z_arr,A_arr);\n",
    "        return A_arr[-1], cache\n",
    "    \n",
    "    \n",
    "    def compute_cost(self, A, Y):\n",
    "        m = Y.shape[1]\n",
    "        res = Y * np.log(A) + (1 - Y) * np.log(1 - A)\n",
    "        J = -(1 / m) * np.sum(res)\n",
    "        return J\n",
    "        \n",
    " \n",
    "    def __backward_propagation(self, X, Y, cache):\n",
    "        m = X.shape[1]\n",
    "        n = X.shape[0]\n",
    "        (W_arr,b_arr,Z_arr,A_arr) = cache\n",
    "\n",
    "        dZ_arr=[];\n",
    "        dW_arr =[];\n",
    "        dA_arr=[];\n",
    "        db_arr =[];\n",
    "        \n",
    "        dZ2 = A_arr[-1] -Y;\n",
    "        dW2 = 1. / m * np.dot(dZ2, A_arr[-2].T);\n",
    "        db2 =1. / m * np.sum(dZ2, axis = 1, keepdims = True);\n",
    "        dA2 =np.dot(W_arr[-1].T,dZ2);\n",
    "        dZ_arr.insert(0,dZ2); \n",
    "        dW_arr.insert(0,dW2);\n",
    "        db_arr.insert(0,db2);\n",
    "        dA_arr.insert(0,dA2);\n",
    "             \n",
    "        for l_inv in range(len(W_arr)-2,0,-1):\n",
    "            dZ_temp =np.multiply(dA_arr[0], np.multiply(A_arr[l_inv], 1 - A_arr[l_inv]));\n",
    "            dW_temp =1. / m * np.dot(dZ_temp, A_arr[l_inv-1].T);\n",
    "            db_temp =1. / m * np.sum(dZ_temp, axis = 1, keepdims = True);\n",
    "            dA_temp =np.dot(W_arr[l_inv].T,dZ_temp);\n",
    "            dZ_arr.insert(0,dZ_temp);\n",
    "            dW_arr.insert(0,dW_temp);\n",
    "            dA_arr.insert(0,dA_temp);\n",
    "            db_arr.insert(0,db_temp);\n",
    "        \n",
    "       \n",
    "        dA1 =dA_arr[0];\n",
    "        dZ1 = np.multiply(dA1, np.multiply(A_arr[0], 1 - A_arr[0]));\n",
    "        dW1 = 1. / m * np.dot(dZ1, X.T)\n",
    "        db1 =1. / m * np.sum(dZ1, axis = 1, keepdims = True)\n",
    "        dZ_arr.insert(0,dZ1)\n",
    "        dW_arr.insert(0,dW1)\n",
    "        db_arr.insert(0,db1)\n",
    "        grads ={\"dZ_arr\":dZ_arr,\"dW_arr\":dW_arr,\"db_arr\":db_arr}\n",
    "        return grads\n",
    "    \n",
    "        \n",
    "    def __update_parameters(self, grads):\n",
    "        W_arr =self.parameters[\"W_arr\"];\n",
    "        b_arr =self.parameters[\"b_arr\"];\n",
    "        dW_arr =grads[\"dW_arr\"];\n",
    "        db_arr =grads[\"db_arr\"];\n",
    "        \n",
    "        Wnew =W_arr.copy();\n",
    "        bnew = b_arr.copy();\n",
    "        for l in range(0,len(W_arr)):\n",
    "            Wnew[l]-=self.learning_rate * dW_arr[l];\n",
    "            bnew[l]-=self.learning_rate * db_arr[l];\n",
    "        self.parameters[\"W_arr\"] = Wnew;\n",
    "        self.parameters[\"b_arr\"] = bnew;\n",
    "        \n",
    "        \n",
    "    def fit(self, X_vert, Y_vert, print_cost = True):\n",
    "        X, Y = X_vert.T, Y_vert.T\n",
    "        \n",
    "        if self.normalize:\n",
    "            X, self.__mean, self.__std = self.__normalize(X)\n",
    "        \n",
    "        costs = []\n",
    "        improve_costs =[]\n",
    "        \n",
    "        m = X.shape[1]\n",
    "        n_x = X.shape[0]\n",
    "        \n",
    "        self.__initialize_parameters(n_x,self.hidden_layer_sizes)\n",
    "\n",
    "        for i in range(self.num_iter):\n",
    "            A, cache = self.__forward_propagation(X)\n",
    "            cost = self.compute_cost(A, Y)\n",
    "            grads = self.__backward_propagation(X, Y, cache)\n",
    "            self.__update_parameters(grads)\n",
    "            if print_cost and i % 1000 == 0:\n",
    "                print(\"{}-th iteration: {}\".format(i, cost))\n",
    "            if i % 1000 == 0:\n",
    "                costs.append(cost)\n",
    "                \n",
    "            if i%self.notimp_iters ==0:\n",
    "                improve_costs.append(cost);\n",
    "                if len(improve_costs) >2:\n",
    "                    if abs(improve_costs[len(improve_costs)-1] - improve_costs[len(improve_costs)-2]) < self.tol:\n",
    "                        return;\n",
    "        if print_cost:\n",
    "            plt.plot(costs)\n",
    "            plt.ylabel(\"Cost\")\n",
    "            plt.xlabel(\"Iteration, *1000\")\n",
    "            plt.show()\n",
    "    \n",
    "    \n",
    "    def predict_proba(self, X_vert):\n",
    "        X = X_vert.T\n",
    "        if self.normalize:\n",
    "            X, _, _ = self.__normalize(X, self.__mean, self.__std)\n",
    "        probs = self.__forward_propagation(X)[0]\n",
    "        return np.column_stack((probs.T, 1 - probs.T))\n",
    "    \n",
    "    \n",
    "    def predict(self, X_vert):\n",
    "        positive_probs = self.predict_proba(X_vert)[:, 0]\n",
    "        return (positive_probs >= 0.5).astype(int)\n"
   ]
  },
  {
   "cell_type": "code",
   "execution_count": null,
   "metadata": {},
   "outputs": [],
   "source": []
  },
  {
   "cell_type": "code",
   "execution_count": null,
   "metadata": {},
   "outputs": [],
   "source": []
  },
  {
   "cell_type": "code",
   "execution_count": 5,
   "metadata": {},
   "outputs": [
    {
     "name": "stdout",
     "output_type": "stream",
     "text": [
      "Training set: X=(118, 2), y=(118,)\n"
     ]
    }
   ],
   "source": [
    "data_columns = [\"test1\", \"test2\"]\n",
    "target_column = \"passed\"\n",
    "df = pd.read_csv(\"tests.csv\")\n",
    "X, Y = df[data_columns].values, df[target_column]\n",
    "print('Training set: X={}, y={}'.format(X.shape, Y.shape))"
   ]
  },
  {
   "cell_type": "code",
   "execution_count": 6,
   "metadata": {},
   "outputs": [
    {
     "data": {
      "image/png": "[encoded data removed]",
      "text/plain": [
       "<Figure size 432x288 with 1 Axes>"
      ]
     },
     "metadata": {
      "needs_background": "light"
     },
     "output_type": "display_data"
    }
   ],
   "source": [
    "plot_data(X, Y)"
   ]
  },
  {
   "cell_type": "code",
   "execution_count": 7,
   "metadata": {},
   "outputs": [],
   "source": [
    "cls = NeuralNet(normalize = True, \n",
    "                learning_rate = 0.001, \n",
    "                num_iter = 10001,\n",
    "                hidden_layer_sizes = (7,2),\n",
    "                notimp_iters=100000,\n",
    "                tol=1e-8)"
   ]
  },
  {
   "cell_type": "code",
   "execution_count": 8,
   "metadata": {},
   "outputs": [
    {
     "name": "stdout",
     "output_type": "stream",
     "text": [
      "0-th iteration: 2.3492402254087588\n",
      "1000-th iteration: 2.3492390468182287\n",
      "2000-th iteration: 2.3492381568711687\n",
      "3000-th iteration: 2.3492370414393786\n",
      "4000-th iteration: 2.3492310367636606\n",
      "5000-th iteration: 2.3492075502940164\n",
      "6000-th iteration: 2.3491536230143484\n",
      "7000-th iteration: 2.3490724670418754\n",
      "8000-th iteration: 2.34898192897001\n",
      "9000-th iteration: 2.3488984397975963\n",
      "10000-th iteration: 2.3488297953263513\n"
     ]
    },
    {
     "data": {
      "image/png": "[encoded data removed]",
      "text/plain": [
       "<Figure size 432x288 with 1 Axes>"
      ]
     },
     "metadata": {
      "needs_background": "light"
     },
     "output_type": "display_data"
    }
   ],
   "source": [
    "cls.fit(X, Y.values.reshape((df.shape[0], 1)))"
   ]
  },
  {
   "cell_type": "code",
   "execution_count": 9,
   "metadata": {},
   "outputs": [
    {
     "name": "stdout",
     "output_type": "stream",
     "text": [
      "{'W_arr': [array([[ 0.00568992, -0.00488071],\n",
      "       [-0.01580782,  0.00305286],\n",
      "       [-0.0291837 , -0.02195033],\n",
      "       [-0.00678906,  0.00385621],\n",
      "       [-0.02329049,  0.01289638],\n",
      "       [-0.02379932,  0.00983593],\n",
      "       [-0.02213157, -0.0134643 ]]), array([[0.47759621, 0.50148662, 0.50516162, 0.47851357, 0.4879217 ,\n",
      "        0.48735108, 0.50132743],\n",
      "       [0.48238914, 0.49586702, 0.52036105, 0.47416543, 0.49761068,\n",
      "        0.49176288, 0.49312675]]), array([[3.48458137, 3.50560546]])], 'b_arr': [array([[0.11195656],\n",
      "       [0.12045611],\n",
      "       [0.12686268],\n",
      "       [0.11015961],\n",
      "       [0.11761798],\n",
      "       [0.11612805],\n",
      "       [0.1197232 ]]), array([[0.9658094 ],\n",
      "       [0.97019211]]), array([[4.83099153]])]}\n"
     ]
    }
   ],
   "source": [
    "print(cls.parameters)"
   ]
  },
  {
   "cell_type": "code",
   "execution_count": 10,
   "metadata": {},
   "outputs": [
    {
     "data": {
      "text/plain": [
       "array([[0.00840981, 0.99159019],\n",
       "       [0.0084178 , 0.9915822 ],\n",
       "       [0.00862411, 0.99137589],\n",
       "       [0.00849133, 0.99150867],\n",
       "       [0.00857223, 0.99142777],\n",
       "       [0.00854391, 0.99145609],\n",
       "       [0.00861562, 0.99138438],\n",
       "       [0.00834721, 0.99165279],\n",
       "       [0.0083691 , 0.9916309 ],\n",
       "       [0.00854457, 0.99145543],\n",
       "       [0.00847986, 0.99152014],\n",
       "       [0.00856647, 0.99143353],\n",
       "       [0.00839316, 0.99160684],\n",
       "       [0.00846221, 0.99153779],\n",
       "       [0.00851956, 0.99148044],\n",
       "       [0.00838913, 0.99161087],\n",
       "       [0.00860013, 0.99139987],\n",
       "       [0.00837164, 0.99162836],\n",
       "       [0.00849264, 0.99150736],\n",
       "       [0.00844777, 0.99155223],\n",
       "       [0.00849679, 0.99150321],\n",
       "       [0.00856263, 0.99143737],\n",
       "       [0.00858312, 0.99141688],\n",
       "       [0.00847276, 0.99152724],\n",
       "       [0.00859143, 0.99140857],\n",
       "       [0.00850546, 0.99149454],\n",
       "       [0.00860369, 0.99139631],\n",
       "       [0.00854431, 0.99145569],\n",
       "       [0.00847067, 0.99152933],\n",
       "       [0.00845256, 0.99154744],\n",
       "       [0.00845295, 0.99154705],\n",
       "       [0.00842568, 0.99157432],\n",
       "       [0.00859929, 0.99140071],\n",
       "       [0.00856702, 0.99143298],\n",
       "       [0.00835168, 0.99164832],\n",
       "       [0.00855225, 0.99144775],\n",
       "       [0.00841588, 0.99158412],\n",
       "       [0.008321  , 0.991679  ],\n",
       "       [0.00848319, 0.99151681],\n",
       "       [0.00835896, 0.99164104],\n",
       "       [0.00843794, 0.99156206],\n",
       "       [0.00852332, 0.99147668],\n",
       "       [0.00854395, 0.99145605],\n",
       "       [0.00857893, 0.99142107],\n",
       "       [0.00833409, 0.99166591],\n",
       "       [0.00855041, 0.99144959],\n",
       "       [0.00862505, 0.99137495],\n",
       "       [0.00832009, 0.99167991],\n",
       "       [0.00834942, 0.99165058],\n",
       "       [0.00863743, 0.99136257],\n",
       "       [0.00848355, 0.99151645],\n",
       "       [0.00833275, 0.99166725],\n",
       "       [0.00855151, 0.99144849],\n",
       "       [0.00841552, 0.99158448],\n",
       "       [0.00857825, 0.99142175],\n",
       "       [0.00856809, 0.99143191],\n",
       "       [0.00860737, 0.99139263],\n",
       "       [0.00837651, 0.99162349],\n",
       "       [0.0084325 , 0.9915675 ],\n",
       "       [0.00840779, 0.99159221],\n",
       "       [0.00839746, 0.99160254],\n",
       "       [0.00844813, 0.99155187],\n",
       "       [0.00848496, 0.99151504],\n",
       "       [0.00834291, 0.99165709],\n",
       "       [0.00850405, 0.99149595],\n",
       "       [0.00846713, 0.99153287],\n",
       "       [0.00863109, 0.99136891],\n",
       "       [0.00861771, 0.99138229],\n",
       "       [0.00840092, 0.99159908],\n",
       "       [0.00830531, 0.99169469],\n",
       "       [0.00851027, 0.99148973],\n",
       "       [0.00852207, 0.99147793],\n",
       "       [0.00840043, 0.99159957],\n",
       "       [0.00836874, 0.99163126],\n",
       "       [0.00847281, 0.99152719],\n",
       "       [0.00852178, 0.99147822],\n",
       "       [0.00835178, 0.99164822],\n",
       "       [0.00853061, 0.99146939],\n",
       "       [0.00837011, 0.99162989],\n",
       "       [0.00853685, 0.99146315],\n",
       "       [0.00837947, 0.99162053],\n",
       "       [0.00850556, 0.99149444],\n",
       "       [0.0085249 , 0.9914751 ],\n",
       "       [0.00846126, 0.99153874],\n",
       "       [0.00845592, 0.99154408],\n",
       "       [0.00859105, 0.99140895],\n",
       "       [0.00850749, 0.99149251],\n",
       "       [0.00856218, 0.99143782],\n",
       "       [0.0085674 , 0.9914326 ],\n",
       "       [0.00828197, 0.99171803],\n",
       "       [0.00843298, 0.99156702],\n",
       "       [0.00853029, 0.99146971],\n",
       "       [0.0084374 , 0.9915626 ],\n",
       "       [0.0083093 , 0.9916907 ],\n",
       "       [0.0083635 , 0.9916365 ],\n",
       "       [0.00848558, 0.99151442],\n",
       "       [0.00850939, 0.99149061],\n",
       "       [0.0085853 , 0.9914147 ],\n",
       "       [0.00832696, 0.99167304],\n",
       "       [0.00854934, 0.99145066],\n",
       "       [0.00849451, 0.99150549],\n",
       "       [0.00840139, 0.99159861],\n",
       "       [0.00842155, 0.99157845],\n",
       "       [0.00839927, 0.99160073],\n",
       "       [0.00830353, 0.99169647],\n",
       "       [0.00851706, 0.99148294],\n",
       "       [0.0086069 , 0.9913931 ],\n",
       "       [0.00851735, 0.99148265],\n",
       "       [0.0083668 , 0.9916332 ],\n",
       "       [0.00843746, 0.99156254],\n",
       "       [0.0083399 , 0.9916601 ],\n",
       "       [0.00857666, 0.99142334],\n",
       "       [0.0083255 , 0.9916745 ],\n",
       "       [0.00853375, 0.99146625],\n",
       "       [0.00852144, 0.99147856],\n",
       "       [0.00837484, 0.99162516],\n",
       "       [0.00857205, 0.99142795],\n",
       "       [0.0086136 , 0.9913864 ]])"
      ]
     },
     "execution_count": 10,
     "metadata": {},
     "output_type": "execute_result"
    }
   ],
   "source": [
    "Y_prob = cls.predict_proba(X)\n",
    "Y_prob"
   ]
  },
  {
   "cell_type": "code",
   "execution_count": 11,
   "metadata": {},
   "outputs": [
    {
     "data": {
      "text/plain": [
       "array([0, 0, 0, 0, 0, 0, 0, 0, 0, 0, 0, 0, 0, 0, 0, 0, 0, 0, 0, 0, 0, 0,\n",
       "       0, 0, 0, 0, 0, 0, 0, 0, 0, 0, 0, 0, 0, 0, 0, 0, 0, 0, 0, 0, 0, 0,\n",
       "       0, 0, 0, 0, 0, 0, 0, 0, 0, 0, 0, 0, 0, 0, 0, 0, 0, 0, 0, 0, 0, 0,\n",
       "       0, 0, 0, 0, 0, 0, 0, 0, 0, 0, 0, 0, 0, 0, 0, 0, 0, 0, 0, 0, 0, 0,\n",
       "       0, 0, 0, 0, 0, 0, 0, 0, 0, 0, 0, 0, 0, 0, 0, 0, 0, 0, 0, 0, 0, 0,\n",
       "       0, 0, 0, 0, 0, 0, 0, 0])"
      ]
     },
     "execution_count": 11,
     "metadata": {},
     "output_type": "execute_result"
    }
   ],
   "source": [
    "Y_hat = cls.predict(X)\n",
    "Y_hat"
   ]
  },
  {
   "cell_type": "code",
   "execution_count": 12,
   "metadata": {},
   "outputs": [
    {
     "data": {
      "text/plain": [
       "0.5084745762711864"
      ]
     },
     "execution_count": 12,
     "metadata": {},
     "output_type": "execute_result"
    }
   ],
   "source": [
    "accuracy_score(Y, Y_hat)"
   ]
  },
  {
   "cell_type": "code",
   "execution_count": 13,
   "metadata": {},
   "outputs": [
    {
     "name": "stderr",
     "output_type": "stream",
     "text": [
      "<ipython-input-2-1d8d12161a03>:10: UserWarning: No contour levels were found within the data range.\n",
      "  ax.contour(xx1, xx2, Z, levels=[threshold], colors='black')\n"
     ]
    },
    {
     "data": {
      "image/png": "[encoded data removed]",
      "text/plain": [
       "<Figure size 432x288 with 1 Axes>"
      ]
     },
     "metadata": {
      "needs_background": "light"
     },
     "output_type": "display_data"
    }
   ],
   "source": [
    "plot_data(X, Y)\n",
    "plot_surface(cls, X[:, 0], X[:, 1])"
   ]
  },
  {
   "cell_type": "code",
   "execution_count": 14,
   "metadata": {},
   "outputs": [],
   "source": [
    "from sklearn.neural_network import MLPClassifier\n",
    "clf = MLPClassifier(hidden_layer_sizes = (5,10,), \n",
    "                    max_iter = 10000, \n",
    "                    activation = 'relu', \n",
    "                    solver = 'sgd', \n",
    "                    learning_rate_init = 0.01, \n",
    "                    learning_rate = 'constant')"
   ]
  },
  {
   "cell_type": "code",
   "execution_count": 15,
   "metadata": {},
   "outputs": [
    {
     "data": {
      "text/plain": [
       "MLPClassifier(hidden_layer_sizes=(5, 10), learning_rate_init=0.01,\n",
       "              max_iter=10000, solver='sgd')"
      ]
     },
     "execution_count": 15,
     "metadata": {},
     "output_type": "execute_result"
    }
   ],
   "source": [
    "clf.fit(X, Y)"
   ]
  },
  {
   "cell_type": "code",
   "execution_count": 16,
   "metadata": {},
   "outputs": [
    {
     "data": {
      "image/png": "[encoded data removed]",
      "text/plain": [
       "<Figure size 432x288 with 1 Axes>"
      ]
     },
     "metadata": {
      "needs_background": "light"
     },
     "output_type": "display_data"
    }
   ],
   "source": [
    "plot_data(X, Y)\n",
    "plot_surface(clf, X[:, 0], X[:, 1])"
   ]
  },
  {
   "cell_type": "code",
   "execution_count": 17,
   "metadata": {},
   "outputs": [
    {
     "data": {
      "text/plain": [
       "0.4661016949152542"
      ]
     },
     "execution_count": 17,
     "metadata": {},
     "output_type": "execute_result"
    }
   ],
   "source": [
    "accuracy_score(Y, clf.predict(X))"
   ]
  },
  {
   "cell_type": "code",
   "execution_count": 18,
   "metadata": {},
   "outputs": [
    {
     "data": {
      "text/plain": [
       "110"
      ]
     },
     "execution_count": 18,
     "metadata": {},
     "output_type": "execute_result"
    }
   ],
   "source": [
    "clf.n_iter_"
   ]
  },
  {
   "cell_type": "code",
   "execution_count": null,
   "metadata": {},
   "outputs": [],
   "source": []
  }
 ],
 "metadata": {
  "anaconda-cloud": {},
  "kernelspec": {
   "display_name": "Python 3",
   "language": "python",
   "name": "python3"
  },
  "language_info": {
   "codemirror_mode": {
    "name": "ipython",
    "version": 3
   },
   "file_extension": ".py",
   "mimetype": "text/x-python",
   "name": "python",
   "nbconvert_exporter": "python",
   "pygments_lexer": "ipython3",
   "version": "3.8.0"
  }
 },
 "nbformat": 4,
 "nbformat_minor": 1
}
