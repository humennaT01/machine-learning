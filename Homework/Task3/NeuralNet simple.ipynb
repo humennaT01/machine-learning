{
 "cells": [
  {
   "cell_type": "code",
   "execution_count": 1,
   "metadata": {},
   "outputs": [],
   "source": [
    "import numpy as np\n",
    "import pandas as pd\n",
    "from sklearn.model_selection import train_test_split\n",
    "from mpl_toolkits.mplot3d import Axes3D\n",
    "import matplotlib.pyplot as plt\n",
    "\n",
    "from matplotlib.colors import ListedColormap\n",
    "cm_bright = ListedColormap(['#FF0000', '#0000FF'])\n",
    "%matplotlib inline\n",
    "from sklearn.metrics import accuracy_score\n",
    "\n",
    "import sklearn.linear_model"
   ]
  },
  {
   "cell_type": "code",
   "execution_count": 2,
   "metadata": {},
   "outputs": [],
   "source": [
    "def plot_surface(cls, x_1, x_2, ax=None, threshold=0.5, contourf=False):\n",
    "    xx1, xx2 = np.meshgrid(np.linspace(x_1.min(), x_1.max(), 100), \n",
    "                           np.linspace(x_2.min(), x_2.max(), 100))\n",
    "\n",
    "    X_pred = np.c_[xx1.ravel(), xx2.ravel()]\n",
    "    pred = cls.predict_proba(X_pred)[:, 0]\n",
    "    Z = pred.reshape((100, 100))\n",
    "    if ax is None:\n",
    "        ax = plt.gca()\n",
    "    ax.contour(xx1, xx2, Z, levels=[threshold], colors='black')\n",
    "    ax.set_xlim((x_1.min(), x_1.max()))\n",
    "    ax.set_ylim((x_2.min(), x_2.max()))"
   ]
  },
  {
   "cell_type": "code",
   "execution_count": 3,
   "metadata": {},
   "outputs": [],
   "source": [
    "def plot_data(X, y):\n",
    "    ax = plt.gca()\n",
    "    ax.scatter(X[:,0], X[:,1], c=(y == 1), cmap=cm_bright)"
   ]
  },
  {
   "cell_type": "code",
   "execution_count": 4,
   "metadata": {},
   "outputs": [],
   "source": [
    "class NeuralNet:\n",
    "    \"\"\"\n",
    "    NN for binary classification\n",
    "    Attributes:\n",
    "    ...\n",
    "    \"\"\"\n",
    "    \n",
    "    def __init__(self, normalize = True, learning_rate = 0.01, num_iter = 30000, hidden_layer_sizes = (10,), eps = 1e-6):\n",
    "        self.learning_rate = learning_rate\n",
    "        self.num_iter = num_iter\n",
    "        self.normalize = normalize\n",
    "        self.hidden_layer_sizes = hidden_layer_sizes\n",
    "        self.layers_len = len(hidden_layer_sizes) + 1\n",
    "        self.eps = eps\n",
    "        self.parameters = None  # W and b\n",
    "    \n",
    "    def __normalize(self, X, mean = None, std = None):\n",
    "        \"\"\"\n",
    "        Зверніть увагу, що нормалізація вхідних даних є дуже важливою для швидкодії нейронних мереж.\n",
    "        \"\"\"\n",
    "        n = X.shape[0]\n",
    "        m = mean\n",
    "        if m is None:\n",
    "            m = np.mean(X, axis=1).reshape((n, 1))\n",
    "        s = std\n",
    "        if s is None:\n",
    "            s = np.std(X, axis=1).reshape((n, 1))\n",
    "        X_new = (X - m) / s**2\n",
    "        return X_new, m, s\n",
    "\n",
    "    def __sigmoid(self, Z):\n",
    "        \"\"\"\n",
    "        В наступних практичних потрібно буде додати підтримку й інших активаційних функцій - це один з гіперпараметрів. \n",
    "        Їх можна вибирати для всіх шарів одночасно або мати різні активаційні функції на кожному з них.\n",
    "        \"\"\"\n",
    "        return 1 / (1 + np.exp(-Z))\n",
    "    \n",
    "    def __initialize_parameters(self, n_x, n_y):\n",
    "        W_arr = []\n",
    "        b_arr = []\n",
    "        self.dW = []\n",
    "        self.db = []\n",
    "        \n",
    "        W1 = np.random.randn(n_y[0], n_x)*0.01;\n",
    "        b1 = np.zeros((n_y[0], 1));\n",
    "        W_arr.append(W1);\n",
    "        b_arr.append(b1);\n",
    "        \n",
    "        for i in range(1,len(n_y)):\n",
    "            W_temp =np.random.randn(n_y[i], n_y[i-1]) * 0.01;\n",
    "            b_temp = np.zeros((n_y[i], 1));\n",
    "            W_arr.append(W_temp);\n",
    "            b_arr.append(b_temp);\n",
    "        \n",
    "        W2 = np.random.randn(1, n_y[len(n_y)-1]) * 0.01\n",
    "        b2 = 0\n",
    "        \n",
    "        W_arr.append(W2);\n",
    "        b_arr.append(b2);\n",
    "        \n",
    "        self.parameters = {\"W\" : W_arr, \"b\" : b_arr}\n",
    "        \n",
    "       \n",
    "    def __forward_propagation(self, X):\n",
    "        W = self.parameters[\"W\"]\n",
    "        b = self.parameters[\"b\"]\n",
    "        \n",
    "        Z = list()\n",
    "        A = list()\n",
    "        \n",
    "        Z.append(np.dot(W[0], X) + b[0])\n",
    "        A.append(self.__sigmoid(Z[0]))\n",
    "\n",
    "        for i in range(1, self.layers_len):\n",
    "            Z.append(np.dot(W[i], A[i-1]) + b[i])\n",
    "            A.append(self.__sigmoid(Z[i]))\n",
    "            \n",
    "        cache = (W, b, Z, A)\n",
    "        return A[-1], cache\n",
    "    \n",
    "    \n",
    "    def compute_cost(self, A, Y):\n",
    "        m = Y.shape[1]\n",
    "        res = Y * np.log(A) + (1 - Y) * np.log(1 - A)\n",
    "        J = -(1 / m) * np.sum(res)\n",
    "        return J\n",
    "        \n",
    "    def __backward_propagation(self, X, Y, cache):\n",
    "        m = X.shape[1]\n",
    "        n = X.shape[0]\n",
    "        (W, b, Z, A) = cache\n",
    "        \n",
    "        dW = [None for i in range(self.layers_len)]\n",
    "        db = [None for i in range(self.layers_len)]\n",
    "        dZ = [None for i in range(self.layers_len)]\n",
    "        dA = [None for i in range(self.layers_len)]\n",
    "        \n",
    "        dZ[-1] = (A[-1] - Y)\n",
    "        dW[-1] = (1. / m * np.dot(dZ[-1], A[-2].T))\n",
    "        db[-1] = (1. / m * np.sum(dZ[-1], axis = 1, keepdims = True))\n",
    "        dA[-1] = np.dot(W[-1].T, dZ[-1])\n",
    "        \n",
    "        for i in range(self.layers_len-1, 1, -1):\n",
    "            dZ[i-1] = np.multiply(dA[i], np.multiply(A[i-1], 1 - A[i-1]))\n",
    "            dW[i-1] = 1. / m * np.dot(dZ[i-1], A[i-2].T)\n",
    "            db[i-1] = 1. / m * np.sum(dZ[i-1], axis = 1, keepdims = True)\n",
    "            dA[i-1] = np.dot(W[i-1].T, dZ[i-1])\n",
    "            \n",
    "        dZ[0] = np.multiply(dA[1], np.multiply(A[0], 1 - A[0]))\n",
    "        dA[0] = np.dot(W[0].T, dZ[0])\n",
    "        \n",
    "        dW[0] = 1. / m * np.dot(dZ[0], X.T)\n",
    "        db[0] = 1. / m * np.sum(dZ[0], axis = 1, keepdims = True)\n",
    "    \n",
    "        grads = {\"dZ\": dZ, \"dW\": dW, \"db\": db}\n",
    "        return grads\n",
    "    \n",
    "    \n",
    "    def __update_parameters(self, grads):\n",
    "        W = self.parameters[\"W\"]\n",
    "        b = self.parameters[\"b\"]\n",
    "        \n",
    "        dW = grads[\"dW\"]\n",
    "        db = grads[\"db\"]\n",
    "        \n",
    "        for i in range(self.layers_len):\n",
    "            W[i] = W[i] - self.learning_rate * dW[i]\n",
    "            b[i] = b[i] - self.learning_rate * db[i]\n",
    "        \n",
    "        self.parameters = {\"W\": W, \"b\": b}\n",
    "\n",
    "        \n",
    "    def fit(self, X_vert, Y_vert, print_cost = True):\n",
    "        X, Y = X_vert.T, Y_vert.T\n",
    "        \n",
    "        if self.normalize:\n",
    "            X, self.__mean, self.__std = self.__normalize(X)\n",
    "        \n",
    "        costs = []\n",
    "        costs_history = []\n",
    "        m = X.shape[1]\n",
    "        n_x = X.shape[0]\n",
    "        self.__initialize_parameters(n_x, self.hidden_layer_sizes)\n",
    "\n",
    "        for i in range(self.num_iter):\n",
    "            A, cache = self.__forward_propagation(X)\n",
    "            cost = self.compute_cost(A, Y)\n",
    "            grads = self.__backward_propagation(X, Y, cache)\n",
    "            self.__update_parameters(grads)\n",
    "            if print_cost and i % 1000 == 0:\n",
    "                print(\"{}-th iteration: {}\".format(i, cost))\n",
    "            if i % 1000 == 0:\n",
    "                costs.append(cost)\n",
    "\n",
    "        if print_cost:\n",
    "            plt.plot(costs)\n",
    "            plt.ylabel(\"Cost\")\n",
    "            plt.xlabel(\"Iteration, *1000\")\n",
    "            plt.show()\n",
    "    \n",
    "    def predict_proba(self, X_vert):\n",
    "        X = X_vert.T\n",
    "        if self.normalize:\n",
    "            X, _, _ = self.__normalize(X, self.__mean, self.__std)\n",
    "        \n",
    "        probs = self.__forward_propagation(X)[0]\n",
    "        \n",
    "        return np.column_stack((probs.T, 1 - probs.T))\n",
    "    \n",
    "    def predict(self, X_vert):\n",
    "        positive_probs = self.predict_proba(X_vert)[:, 0]\n",
    "        return (positive_probs >= 0.5).astype(int)   \n"
   ]
  },
  {
   "cell_type": "markdown",
   "metadata": {},
   "source": [
    "Спочатку спробуйте цей клас на одній задачі, а потім на іншій."
   ]
  },
  {
   "cell_type": "markdown",
   "metadata": {},
   "source": [
    "Dataset 1"
   ]
  },
  {
   "cell_type": "code",
   "execution_count": 5,
   "metadata": {},
   "outputs": [],
   "source": [
    "#data_columns = [\"exam1\", \"exam2\"]\n",
    "#target_column = \"submitted\"\n",
    "#df = pd.read_csv(\"sats.csv\")\n",
    "#X, Y = df[data_columns].values, df[target_column].reshape((df.shape[0], 1))\n",
    "#print('Training set: X={}, y={}'.format(X.shape, Y.shape))"
   ]
  },
  {
   "cell_type": "code",
   "execution_count": 6,
   "metadata": {},
   "outputs": [
    {
     "name": "stdout",
     "output_type": "stream",
     "text": [
      "Training set: X=(118, 2), y=(118,)\n"
     ]
    }
   ],
   "source": [
    "data_columns = [\"test1\", \"test2\"]\n",
    "target_column = \"passed\"\n",
    "df = pd.read_csv(\"tests.csv\")\n",
    "X, Y = df[data_columns].values, df[target_column]\n",
    "print('Training set: X={}, y={}'.format(X.shape, Y.shape))"
   ]
  },
  {
   "cell_type": "code",
   "execution_count": 7,
   "metadata": {},
   "outputs": [
    {
     "data": {
      "image/png": "[encoded data removed]",
      "text/plain": [
       "<Figure size 432x288 with 1 Axes>"
      ]
     },
     "metadata": {
      "needs_background": "light"
     },
     "output_type": "display_data"
    }
   ],
   "source": [
    "plot_data(X, Y)"
   ]
  },
  {
   "cell_type": "code",
   "execution_count": 8,
   "metadata": {},
   "outputs": [],
   "source": [
    "cls = NeuralNet(normalize = True, learning_rate = 0.5, num_iter = 4000, hidden_layer_sizes=(20,), eps=1e-6)"
   ]
  },
  {
   "cell_type": "code",
   "execution_count": 9,
   "metadata": {},
   "outputs": [
    {
     "name": "stdout",
     "output_type": "stream",
     "text": [
      "0-th iteration: 0.6933937887642246\n",
      "1000-th iteration: 0.6896332364743587\n",
      "2000-th iteration: 0.5897471994261227\n",
      "3000-th iteration: 0.3911883695829263\n"
     ]
    },
    {
     "data": {
      "image/png": "[encoded data removed]",
      "text/plain": [
       "<Figure size 432x288 with 1 Axes>"
      ]
     },
     "metadata": {
      "needs_background": "light"
     },
     "output_type": "display_data"
    }
   ],
   "source": [
    "cls.fit(X, Y.values.reshape((df.shape[0], 1)))"
   ]
  },
  {
   "cell_type": "code",
   "execution_count": 10,
   "metadata": {},
   "outputs": [
    {
     "name": "stdout",
     "output_type": "stream",
     "text": [
      "{'W': [array([[ 0.91369092, -0.22004019],\n",
      "       [ 1.28453085, -0.54727783],\n",
      "       [ 0.08001666, -0.0925821 ],\n",
      "       [-1.57671913, -0.45252596],\n",
      "       [ 0.58641077,  0.00306399],\n",
      "       [ 0.17971064, -0.07916079],\n",
      "       [ 0.21697616, -0.06474215],\n",
      "       [ 0.31326625,  0.00485421],\n",
      "       [-0.89463284,  0.3379861 ],\n",
      "       [ 1.91028387,  1.60559318],\n",
      "       [ 0.10997748, -0.10953891],\n",
      "       [ 0.25378548, -0.05815574],\n",
      "       [-0.3902598 ,  2.74228374],\n",
      "       [ 0.06194873, -0.1631824 ],\n",
      "       [-0.2013841 ,  2.06659517],\n",
      "       [ 0.25250975, -0.06462667],\n",
      "       [ 0.20304459, -0.07015431],\n",
      "       [-1.14309344, -0.09938863],\n",
      "       [ 0.58568052,  1.31229486],\n",
      "       [-0.59783597,  1.32114409]]), array([[ 0.777295  ,  3.65502236, -1.04901698, -3.32309558, -0.85764896,\n",
      "        -0.8306262 , -0.79241279, -0.60379406, -1.6371424 , -8.84700046,\n",
      "        -0.94982787, -0.76108301,  2.86886942, -1.02752058, -5.12614435,\n",
      "        -0.7662121 , -0.80578473, -3.00035213,  3.79594192,  4.87723678]])], 'b': [array([[ 0.95550113],\n",
      "       [ 3.43591996],\n",
      "       [ 0.22144844],\n",
      "       [-2.09330704],\n",
      "       [-0.54409337],\n",
      "       [ 0.05241021],\n",
      "       [ 0.00937431],\n",
      "       [-0.04460279],\n",
      "       [-0.94615928],\n",
      "       [-3.71564223],\n",
      "       [ 0.13241039],\n",
      "       [-0.03336682],\n",
      "       [ 1.04645977],\n",
      "       [ 0.06112477],\n",
      "       [-3.7140604 ],\n",
      "       [-0.03457783],\n",
      "       [ 0.02519589],\n",
      "       [-2.09319368],\n",
      "       [ 2.73673078],\n",
      "       [ 3.49634563]]), array([[-1.7656399]])]}\n"
     ]
    }
   ],
   "source": [
    "print(cls.parameters)"
   ]
  },
  {
   "cell_type": "code",
   "execution_count": 11,
   "metadata": {},
   "outputs": [
    {
     "data": {
      "text/plain": [
       "array([[5.80019382e-01, 4.19980618e-01],\n",
       "       [8.09573684e-01, 1.90426316e-01],\n",
       "       [3.55623156e-01, 6.44376844e-01],\n",
       "       [1.78565901e-01, 8.21434099e-01],\n",
       "       [8.63594745e-02, 9.13640525e-01],\n",
       "       [8.82575003e-01, 1.17424997e-01],\n",
       "       [3.42851220e-02, 9.65714878e-01],\n",
       "       [3.17688254e-01, 6.82311746e-01],\n",
       "       [7.89326223e-01, 2.10673777e-01],\n",
       "       [9.49194505e-01, 5.08054952e-02],\n",
       "       [9.80614859e-01, 1.93851412e-02],\n",
       "       [2.53314407e-01, 7.46685593e-01],\n",
       "       [2.43708990e-01, 7.56291010e-01],\n",
       "       [1.22546192e-01, 8.77453808e-01],\n",
       "       [8.02896718e-01, 1.97103282e-01],\n",
       "       [2.01657790e-01, 7.98342210e-01],\n",
       "       [6.25826868e-01, 3.74173132e-01],\n",
       "       [8.16435786e-01, 1.83564214e-01],\n",
       "       [7.63887378e-01, 2.36112622e-01],\n",
       "       [1.48707082e-01, 8.51292918e-01],\n",
       "       [9.95691722e-01, 4.30827815e-03],\n",
       "       [8.66641045e-01, 1.33358955e-01],\n",
       "       [8.37642754e-01, 1.62357246e-01],\n",
       "       [6.89106778e-02, 9.31089322e-01],\n",
       "       [2.80300720e-01, 7.19699280e-01],\n",
       "       [8.52827029e-01, 1.47172971e-01],\n",
       "       [1.72419702e-01, 8.27580298e-01],\n",
       "       [3.36671690e-01, 6.63328310e-01],\n",
       "       [4.20561779e-01, 5.79438221e-01],\n",
       "       [8.52118739e-01, 1.47881261e-01],\n",
       "       [9.85735987e-01, 1.42640128e-02],\n",
       "       [5.22762846e-01, 4.77237154e-01],\n",
       "       [3.53529995e-01, 6.46470005e-01],\n",
       "       [9.39531888e-01, 6.04681119e-02],\n",
       "       [2.36803759e-02, 9.76319624e-01],\n",
       "       [6.55191678e-01, 3.44808322e-01],\n",
       "       [3.51381270e-01, 6.48618730e-01],\n",
       "       [3.38857996e-02, 9.66114200e-01],\n",
       "       [9.99082885e-01, 9.17115354e-04],\n",
       "       [9.22313538e-02, 9.07768646e-01],\n",
       "       [3.88648105e-02, 9.61135190e-01],\n",
       "       [5.81817337e-01, 4.18182663e-01],\n",
       "       [4.76248153e-02, 9.52375185e-01],\n",
       "       [2.20924310e-01, 7.79075690e-01],\n",
       "       [3.02435632e-01, 6.97564368e-01],\n",
       "       [9.51344068e-01, 4.86559323e-02],\n",
       "       [6.02372561e-02, 9.39762744e-01],\n",
       "       [1.33623673e-01, 8.66376327e-01],\n",
       "       [1.80730295e-01, 8.19269705e-01],\n",
       "       [2.43322840e-01, 7.56677160e-01],\n",
       "       [7.45078983e-01, 2.54921017e-01],\n",
       "       [1.75224873e-01, 8.24775127e-01],\n",
       "       [9.79764975e-01, 2.02350249e-02],\n",
       "       [1.13562398e-02, 9.88643760e-01],\n",
       "       [3.14208768e-01, 6.85791232e-01],\n",
       "       [1.26030822e-01, 8.73969178e-01],\n",
       "       [2.11731572e-02, 9.78826843e-01],\n",
       "       [5.76846715e-01, 4.23153285e-01],\n",
       "       [4.86700595e-01, 5.13299405e-01],\n",
       "       [8.09202346e-01, 1.90797654e-01],\n",
       "       [5.90369374e-01, 4.09630626e-01],\n",
       "       [9.89938603e-01, 1.00613975e-02],\n",
       "       [2.82796860e-02, 9.71720314e-01],\n",
       "       [3.71121564e-01, 6.28878436e-01],\n",
       "       [9.49943129e-01, 5.00568709e-02],\n",
       "       [9.28424779e-01, 7.15752208e-02],\n",
       "       [1.41166202e-02, 9.85883380e-01],\n",
       "       [2.27174541e-01, 7.72825459e-01],\n",
       "       [4.37611461e-01, 5.62388539e-01],\n",
       "       [1.96532125e-01, 8.03467875e-01],\n",
       "       [9.78697849e-01, 2.13021513e-02],\n",
       "       [4.06537327e-01, 5.93462673e-01],\n",
       "       [9.61133141e-01, 3.88668587e-02],\n",
       "       [8.05428729e-01, 1.94571271e-01],\n",
       "       [5.92513312e-01, 4.07486688e-01],\n",
       "       [9.96891362e-01, 3.10863812e-03],\n",
       "       [4.64576722e-01, 5.35423278e-01],\n",
       "       [7.80330430e-01, 2.19669570e-01],\n",
       "       [4.72968515e-01, 5.27031485e-01],\n",
       "       [7.26478913e-01, 2.73521087e-01],\n",
       "       [8.06469484e-02, 9.19353052e-01],\n",
       "       [9.94903376e-01, 5.09662417e-03],\n",
       "       [9.95217389e-01, 4.78261119e-03],\n",
       "       [3.94086695e-01, 6.05913305e-01],\n",
       "       [5.36539825e-01, 4.63460175e-01],\n",
       "       [5.22362526e-01, 4.77637474e-01],\n",
       "       [2.29968582e-01, 7.70031418e-01],\n",
       "       [1.15413364e-01, 8.84586636e-01],\n",
       "       [5.74720799e-01, 4.25279201e-01],\n",
       "       [1.08803598e-02, 9.89119640e-01],\n",
       "       [2.17979513e-01, 7.82020487e-01],\n",
       "       [9.64329178e-01, 3.56708220e-02],\n",
       "       [9.74063024e-01, 2.59369762e-02],\n",
       "       [1.66869653e-02, 9.83313035e-01],\n",
       "       [2.76908454e-01, 7.23091546e-01],\n",
       "       [9.61170980e-02, 9.03882902e-01],\n",
       "       [9.58819325e-01, 4.11806749e-02],\n",
       "       [8.75250851e-02, 9.12474915e-01],\n",
       "       [2.06838246e-01, 7.93161754e-01],\n",
       "       [6.05033719e-01, 3.94966281e-01],\n",
       "       [9.73310926e-01, 2.66890745e-02],\n",
       "       [9.83476745e-01, 1.65232547e-02],\n",
       "       [7.39056411e-01, 2.60943589e-01],\n",
       "       [5.21109063e-02, 9.47889094e-01],\n",
       "       [2.05896706e-02, 9.79410329e-01],\n",
       "       [9.51465712e-01, 4.85342878e-02],\n",
       "       [6.88592776e-02, 9.31140722e-01],\n",
       "       [5.79457413e-01, 4.20542587e-01],\n",
       "       [6.95896336e-01, 3.04103664e-01],\n",
       "       [9.83293644e-01, 1.67063556e-02],\n",
       "       [2.78308308e-01, 7.21691692e-01],\n",
       "       [7.85603619e-01, 2.14396381e-01],\n",
       "       [4.17671871e-02, 9.58232813e-01],\n",
       "       [9.88201751e-01, 1.17982488e-02],\n",
       "       [4.09029436e-01, 5.90970564e-01],\n",
       "       [8.08838143e-01, 1.91161857e-01],\n",
       "       [1.84748396e-01, 8.15251604e-01],\n",
       "       [1.80842351e-01, 8.19157649e-01]])"
      ]
     },
     "execution_count": 11,
     "metadata": {},
     "output_type": "execute_result"
    }
   ],
   "source": [
    "Y_prob = cls.predict_proba(X)\n",
    "Y_prob"
   ]
  },
  {
   "cell_type": "code",
   "execution_count": 12,
   "metadata": {
    "scrolled": true
   },
   "outputs": [
    {
     "data": {
      "text/plain": [
       "array([1, 1, 0, 0, 0, 1, 0, 0, 1, 1, 1, 0, 0, 0, 1, 0, 1, 1, 1, 0, 1, 1,\n",
       "       1, 0, 0, 1, 0, 0, 0, 1, 1, 1, 0, 1, 0, 1, 0, 0, 1, 0, 0, 1, 0, 0,\n",
       "       0, 1, 0, 0, 0, 0, 1, 0, 1, 0, 0, 0, 0, 1, 0, 1, 1, 1, 0, 0, 1, 1,\n",
       "       0, 0, 0, 0, 1, 0, 1, 1, 1, 1, 0, 1, 0, 1, 0, 1, 1, 0, 1, 1, 0, 0,\n",
       "       1, 0, 0, 1, 1, 0, 0, 0, 1, 0, 0, 1, 1, 1, 1, 0, 0, 1, 0, 1, 1, 1,\n",
       "       0, 1, 0, 1, 0, 1, 0, 0])"
      ]
     },
     "execution_count": 12,
     "metadata": {},
     "output_type": "execute_result"
    }
   ],
   "source": [
    "Y_hat = cls.predict(X)\n",
    "Y_hat"
   ]
  },
  {
   "cell_type": "code",
   "execution_count": 13,
   "metadata": {},
   "outputs": [
    {
     "data": {
      "text/plain": [
       "0.847457627118644"
      ]
     },
     "execution_count": 13,
     "metadata": {},
     "output_type": "execute_result"
    }
   ],
   "source": [
    "accuracy_score(Y, Y_hat)"
   ]
  },
  {
   "cell_type": "code",
   "execution_count": 14,
   "metadata": {
    "scrolled": true
   },
   "outputs": [
    {
     "data": {
      "image/png": "[encoded data removed]",
      "text/plain": [
       "<Figure size 432x288 with 1 Axes>"
      ]
     },
     "metadata": {
      "needs_background": "light"
     },
     "output_type": "display_data"
    }
   ],
   "source": [
    "plot_data(X, Y)\n",
    "plot_surface(cls, X[:, 0], X[:, 1])"
   ]
  },
  {
   "cell_type": "markdown",
   "metadata": {},
   "source": [
    "Зверніть увагу на границю прийняття рішення. Модель старається побудувати складну криву, що може свідчити про її перетренування. Порівняйте отримані результати з класом з sklearn. Спробуйте додати нові шари для нашого класу та порівняти результати тоді. Поекспериментуйте з гіперпараметрами для обох класів."
   ]
  },
  {
   "cell_type": "code",
   "execution_count": 15,
   "metadata": {},
   "outputs": [],
   "source": [
    "from sklearn.neural_network import MLPClassifier\n",
    "clf = MLPClassifier(hidden_layer_sizes = (5,10,), max_iter = 10000, activation = 'relu', solver = 'sgd', learning_rate_init = 0.01, learning_rate = 'constant')"
   ]
  },
  {
   "cell_type": "code",
   "execution_count": 16,
   "metadata": {},
   "outputs": [
    {
     "data": {
      "text/plain": [
       "MLPClassifier(hidden_layer_sizes=(5, 10), learning_rate_init=0.01,\n",
       "              max_iter=10000, solver='sgd')"
      ]
     },
     "execution_count": 16,
     "metadata": {},
     "output_type": "execute_result"
    }
   ],
   "source": [
    "clf.fit(X, Y)"
   ]
  },
  {
   "cell_type": "code",
   "execution_count": 17,
   "metadata": {
    "scrolled": true
   },
   "outputs": [
    {
     "data": {
      "image/png": "[encoded data removed]",
      "text/plain": [
       "<Figure size 432x288 with 1 Axes>"
      ]
     },
     "metadata": {
      "needs_background": "light"
     },
     "output_type": "display_data"
    }
   ],
   "source": [
    "plot_data(X, Y)\n",
    "plot_surface(clf, X[:, 0], X[:, 1])"
   ]
  },
  {
   "cell_type": "code",
   "execution_count": 18,
   "metadata": {},
   "outputs": [
    {
     "data": {
      "text/plain": [
       "0.8389830508474576"
      ]
     },
     "execution_count": 18,
     "metadata": {},
     "output_type": "execute_result"
    }
   ],
   "source": [
    "accuracy_score(Y, clf.predict(X))"
   ]
  },
  {
   "cell_type": "code",
   "execution_count": 19,
   "metadata": {},
   "outputs": [
    {
     "data": {
      "text/plain": [
       "969"
      ]
     },
     "execution_count": 19,
     "metadata": {},
     "output_type": "execute_result"
    }
   ],
   "source": [
    "clf.n_iter_"
   ]
  },
  {
   "cell_type": "markdown",
   "metadata": {},
   "source": [
    "Dataset 2"
   ]
  },
  {
   "cell_type": "code",
   "execution_count": 20,
   "metadata": {},
   "outputs": [
    {
     "name": "stdout",
     "output_type": "stream",
     "text": [
      "Training set: X=(100, 2), y=(100,)\n"
     ]
    }
   ],
   "source": [
    "data_columns = [\"exam1\", \"exam2\"]\n",
    "target_column = \"submitted\"\n",
    "df = pd.read_csv(\"sats.csv\")\n",
    "X, Y = df[data_columns].values, df[target_column]\n",
    "print('Training set: X={}, y={}'.format(X.shape, Y.shape))"
   ]
  },
  {
   "cell_type": "code",
   "execution_count": 21,
   "metadata": {},
   "outputs": [
    {
     "data": {
      "image/png": "[encoded data removed]",
      "text/plain": [
       "<Figure size 432x288 with 1 Axes>"
      ]
     },
     "metadata": {
      "needs_background": "light"
     },
     "output_type": "display_data"
    }
   ],
   "source": [
    "plot_data(X, Y)"
   ]
  },
  {
   "cell_type": "code",
   "execution_count": 22,
   "metadata": {},
   "outputs": [],
   "source": [
    "cls = NeuralNet(normalize = True, learning_rate = 0.5, num_iter = 4000, hidden_layer_sizes=(100,), eps=1e-6)"
   ]
  },
  {
   "cell_type": "code",
   "execution_count": 23,
   "metadata": {},
   "outputs": [
    {
     "name": "stdout",
     "output_type": "stream",
     "text": [
      "0-th iteration: 0.692238578477196\n",
      "1000-th iteration: 0.6710523146471725\n",
      "2000-th iteration: 0.5547412299106866\n",
      "3000-th iteration: 0.25442955592018934\n"
     ]
    },
    {
     "data": {
      "image/png": "[encoded data removed]",
      "text/plain": [
       "<Figure size 432x288 with 1 Axes>"
      ]
     },
     "metadata": {
      "needs_background": "light"
     },
     "output_type": "display_data"
    }
   ],
   "source": [
    "cls.fit(X, Y.values.reshape((df.shape[0], 1)))"
   ]
  },
  {
   "cell_type": "code",
   "execution_count": 24,
   "metadata": {},
   "outputs": [
    {
     "name": "stdout",
     "output_type": "stream",
     "text": [
      "{'W': [array([[-0.12292946, -0.1185601 ],\n",
      "       [ 0.27510277,  0.24339203],\n",
      "       [-1.90464613, -1.66095148],\n",
      "       [ 0.08502984,  0.04650261],\n",
      "       [ 0.55687491,  0.49018864],\n",
      "       [-1.54126034, -1.34484512],\n",
      "       [ 1.61587831,  1.43406884],\n",
      "       [ 0.3935223 ,  0.36480117],\n",
      "       [ 1.28742302,  1.1266572 ],\n",
      "       [ 1.76979302,  1.56817694],\n",
      "       [-1.92409198, -1.68274824],\n",
      "       [-0.23830179, -0.23572278],\n",
      "       [-0.96492039, -0.85679671],\n",
      "       [-0.65494079, -0.59072679],\n",
      "       [ 0.92046422,  0.82113685],\n",
      "       [ 0.45293279,  0.40959477],\n",
      "       [ 1.06548316,  0.95882794],\n",
      "       [-0.36669963, -0.32326446],\n",
      "       [-2.33635475, -2.05418976],\n",
      "       [-0.61759501, -0.54664201],\n",
      "       [-2.02620419, -1.78884971],\n",
      "       [-0.15072455, -0.14182181],\n",
      "       [ 1.21134918,  1.09050719],\n",
      "       [-1.30167358, -1.14564178],\n",
      "       [-1.01594221, -0.90715917],\n",
      "       [-2.50079347, -2.19961628],\n",
      "       [-0.53578865, -0.47583157],\n",
      "       [-1.05459856, -0.91777753],\n",
      "       [-1.32926902, -1.16419315],\n",
      "       [ 1.60974104,  1.41583773],\n",
      "       [ 2.93757638,  2.58719337],\n",
      "       [ 0.65048639,  0.59083569],\n",
      "       [ 0.74622024,  0.67820652],\n",
      "       [ 1.59116707,  1.41873723],\n",
      "       [-2.27416198, -1.98484381],\n",
      "       [-0.03219069, -0.02944437],\n",
      "       [ 1.14775751,  1.0213495 ],\n",
      "       [ 0.32218368,  0.29084884],\n",
      "       [ 0.93088308,  0.82602387],\n",
      "       [ 1.13593818,  1.00024316],\n",
      "       [ 1.76235344,  1.53825643],\n",
      "       [-0.91680133, -0.80324397],\n",
      "       [-1.70205126, -1.4804068 ],\n",
      "       [-0.63336381, -0.54115062],\n",
      "       [-0.4330973 , -0.38127878],\n",
      "       [-1.57272763, -1.37454596],\n",
      "       [ 0.86728429,  0.76922044],\n",
      "       [-0.10751594, -0.10059275],\n",
      "       [-3.03964586, -2.66912226],\n",
      "       [-0.46762833, -0.40791769],\n",
      "       [-1.19301417, -1.04763461],\n",
      "       [ 2.10398978,  1.838222  ],\n",
      "       [-1.66043369, -1.45637531],\n",
      "       [-0.38217214, -0.34145822],\n",
      "       [-1.79681412, -1.59684901],\n",
      "       [-0.0158548 ,  0.00416909],\n",
      "       [ 3.09553287,  2.72547216],\n",
      "       [ 0.19342876,  0.15807925],\n",
      "       [ 0.88341128,  0.78941087],\n",
      "       [-0.13338866, -0.11195693],\n",
      "       [ 2.14193268,  1.90823633],\n",
      "       [-0.19848084, -0.17929601],\n",
      "       [ 0.20815046,  0.18977413],\n",
      "       [ 2.04600919,  1.78702467],\n",
      "       [ 0.10950196,  0.11136761],\n",
      "       [ 1.62151798,  1.44523148],\n",
      "       [-0.75231224, -0.67917386],\n",
      "       [-0.43793895, -0.39001126],\n",
      "       [-0.32214138, -0.28414176],\n",
      "       [ 0.03203992,  0.02809433],\n",
      "       [ 1.47077977,  1.30183373],\n",
      "       [-3.54867161, -3.10352354],\n",
      "       [-0.45152943, -0.39974446],\n",
      "       [ 0.97307749,  0.87447898],\n",
      "       [-0.25190918, -0.22538852],\n",
      "       [ 1.28007335,  1.14880571],\n",
      "       [ 0.29003223,  0.26483685],\n",
      "       [-0.06694418, -0.05908005],\n",
      "       [ 0.15719551,  0.14211187],\n",
      "       [ 0.18209697,  0.15244209],\n",
      "       [ 1.20969047,  1.08635961],\n",
      "       [-0.40377322, -0.34532053],\n",
      "       [-0.17069423, -0.16594409],\n",
      "       [-0.53314652, -0.46460808],\n",
      "       [ 0.89769707,  0.8022676 ],\n",
      "       [ 0.27094115,  0.25055593],\n",
      "       [ 0.14373661,  0.09791691],\n",
      "       [-1.01241686, -0.88671885],\n",
      "       [ 0.81952831,  0.72934843],\n",
      "       [ 1.07075588,  0.95135859],\n",
      "       [ 0.419022  ,  0.3535609 ],\n",
      "       [ 2.86562121,  2.54338972],\n",
      "       [ 1.46074033,  1.2766379 ],\n",
      "       [ 0.04793412,  0.05397295],\n",
      "       [-0.34776596, -0.32482683],\n",
      "       [-0.7859292 , -0.70838796],\n",
      "       [ 1.1668737 ,  1.03556957],\n",
      "       [ 1.64458763,  1.46372654],\n",
      "       [ 0.71351885,  0.63715988],\n",
      "       [ 0.00700931,  0.01060404]]), array([[-0.21678325,  0.3168158 , -2.55783954,  0.04618695,  0.68834723,\n",
      "        -2.07837754,  2.09602381,  0.48447048,  1.64981325,  2.29859115,\n",
      "        -2.58679291, -0.37937443, -1.32766506, -0.92217959,  1.17613462,\n",
      "         0.55809304,  1.37440776, -0.53230549, -3.13991194, -0.86549198,\n",
      "        -2.73304534, -0.25267473,  1.5694609 , -1.76846953, -1.39880811,\n",
      "        -3.35895837, -0.75816007, -1.43447614, -1.80135124,  2.07948909,\n",
      "         3.83728202,  0.82404172,  0.95254472,  2.06759575, -3.0476833 ,\n",
      "        -0.09080958,  1.47669504,  0.38293162,  1.18704527,  1.45418076,\n",
      "         2.27340382, -1.25664221, -2.28756304, -0.87361051, -0.61970929,\n",
      "        -2.1214111 ,  1.10245526, -0.19342547, -4.07239699, -0.66289879,\n",
      "        -1.62300824,  2.72453622, -2.24072079, -0.55573776, -2.43506509,\n",
      "        -0.05658778,  4.04612707,  0.2000957 ,  1.1276323 , -0.22016069,\n",
      "         2.79873279, -0.31270098,  0.23180037,  2.6477813 ,  0.10695241,\n",
      "         2.10756808, -1.05282426, -0.62905208, -0.47349078, -0.00527552,\n",
      "         1.90116997, -4.74096417, -0.64547938,  1.25026533, -0.38276158,\n",
      "         1.65884687,  0.34191551, -0.13609442,  0.1626409 ,  0.18791077,\n",
      "         1.5655036 , -0.57437024, -0.2832662 , -0.74889066,  1.14680348,\n",
      "         0.31831417,  0.12352701, -1.38283128,  1.04075131,  1.37345874,\n",
      "         0.49607064,  3.7549696 ,  1.87725107,  0.02354891, -0.51925643,\n",
      "        -1.09695935,  1.5002233 ,  2.13685745,  0.90130368, -0.0353968 ]])], 'b': [array([[-0.53154385],\n",
      "       [-0.53400644],\n",
      "       [-0.11119252],\n",
      "       [-0.54179052],\n",
      "       [-0.49466828],\n",
      "       [-0.18248802],\n",
      "       [-0.1985691 ],\n",
      "       [-0.52009697],\n",
      "       [-0.2969215 ],\n",
      "       [-0.15869237],\n",
      "       [-0.1078032 ],\n",
      "       [-0.51673325],\n",
      "       [-0.34052961],\n",
      "       [-0.42906879],\n",
      "       [-0.40450321],\n",
      "       [-0.51193741],\n",
      "       [-0.36045648],\n",
      "       [-0.4974362 ],\n",
      "       [-0.06279143],\n",
      "       [-0.44039763],\n",
      "       [-0.09233059],\n",
      "       [-0.52880925],\n",
      "       [-0.31558117],\n",
      "       [-0.24287848],\n",
      "       [-0.3243745 ],\n",
      "       [-0.0537652 ],\n",
      "       [-0.46069389],\n",
      "       [-0.31633422],\n",
      "       [-0.23606024],\n",
      "       [-0.20192149],\n",
      "       [ 0.01665314],\n",
      "       [-0.47320894],\n",
      "       [-0.45002609],\n",
      "       [-0.20448946],\n",
      "       [-0.06803933],\n",
      "       [-0.53863021],\n",
      "       [-0.33697176],\n",
      "       [-0.52931563],\n",
      "       [-0.40213344],\n",
      "       [-0.34215927],\n",
      "       [-0.16330502],\n",
      "       [-0.3566283 ],\n",
      "       [-0.14780677],\n",
      "       [-0.43882087],\n",
      "       [-0.48428758],\n",
      "       [-0.17490288],\n",
      "       [-0.42009662],\n",
      "       [-0.53315541],\n",
      "       [-0.04710405],\n",
      "       [-0.47727583],\n",
      "       [-0.27415178],\n",
      "       [-0.08811272],\n",
      "       [-0.15504461],\n",
      "       [-0.49405137],\n",
      "       [-0.1264832 ],\n",
      "       [-0.53987502],\n",
      "       [ 0.02760997],\n",
      "       [-0.53964182],\n",
      "       [-0.41482784],\n",
      "       [-0.53130119],\n",
      "       [-0.07803756],\n",
      "       [-0.52355754],\n",
      "       [-0.53844712],\n",
      "       [-0.09939989],\n",
      "       [-0.54167382],\n",
      "       [-0.19623056],\n",
      "       [-0.40171808],\n",
      "       [-0.48279542],\n",
      "       [-0.50544139],\n",
      "       [-0.54117085],\n",
      "       [-0.24011797],\n",
      "       [-0.05757496],\n",
      "       [-0.48014499],\n",
      "       [-0.38833614],\n",
      "       [-0.51636884],\n",
      "       [-0.29493647],\n",
      "       [-0.53234545],\n",
      "       [-0.53653692],\n",
      "       [-0.54072483],\n",
      "       [-0.5400255 ],\n",
      "       [-0.3164883 ],\n",
      "       [-0.49129705],\n",
      "       [-0.52624   ],\n",
      "       [-0.4623831 ],\n",
      "       [-0.41077998],\n",
      "       [-0.53390547],\n",
      "       [-0.54145921],\n",
      "       [-0.32805409],\n",
      "       [-0.43274213],\n",
      "       [-0.36064584],\n",
      "       [-0.51886726],\n",
      "       [ 0.0116336 ],\n",
      "       [-0.24533922],\n",
      "       [-0.54161212],\n",
      "       [-0.49926568],\n",
      "       [-0.39213757],\n",
      "       [-0.33152993],\n",
      "       [-0.19025442],\n",
      "       [-0.45955569],\n",
      "       [-0.54048997]]), array([[-0.4217259]])]}\n"
     ]
    }
   ],
   "source": [
    "print(cls.parameters)"
   ]
  },
  {
   "cell_type": "code",
   "execution_count": 25,
   "metadata": {},
   "outputs": [
    {
     "data": {
      "text/plain": [
       "array([[1.69593466e-01, 8.30406534e-01],\n",
       "       [1.09434126e-03, 9.98905659e-01],\n",
       "       [1.07587060e-01, 8.92412940e-01],\n",
       "       [9.59823007e-01, 4.01769930e-02],\n",
       "       [9.87154406e-01, 1.28455936e-02],\n",
       "       [4.41812137e-02, 9.55818786e-01],\n",
       "       [9.90980680e-01, 9.01932022e-03],\n",
       "       [4.56917160e-01, 5.43082840e-01],\n",
       "       [9.96220244e-01, 3.77975620e-03],\n",
       "       [6.78816377e-01, 3.21183623e-01],\n",
       "       [8.37903743e-01, 1.62096257e-01],\n",
       "       [8.64861034e-02, 9.13513897e-01],\n",
       "       [9.93032030e-01, 6.96797039e-03],\n",
       "       [9.97592902e-01, 2.40709755e-03],\n",
       "       [2.37837006e-01, 7.62162994e-01],\n",
       "       [9.36430112e-01, 6.35698883e-02],\n",
       "       [4.57759177e-01, 5.42240823e-01],\n",
       "       [2.38795191e-01, 7.61204809e-01],\n",
       "       [9.96158574e-01, 3.84142603e-03],\n",
       "       [5.60877749e-01, 4.39122251e-01],\n",
       "       [1.46028562e-01, 8.53971438e-01],\n",
       "       [9.89464173e-01, 1.05358270e-02],\n",
       "       [3.48278192e-02, 9.65172181e-01],\n",
       "       [1.96301020e-03, 9.98036990e-01],\n",
       "       [9.64885107e-01, 3.51148926e-02],\n",
       "       [7.73302956e-01, 2.26697044e-01],\n",
       "       [5.79993550e-01, 4.20006450e-01],\n",
       "       [7.91107942e-01, 2.08892058e-01],\n",
       "       [1.77129537e-01, 8.22870463e-01],\n",
       "       [5.84354648e-02, 9.41564535e-01],\n",
       "       [8.16377012e-01, 1.83622988e-01],\n",
       "       [9.39386994e-01, 6.06130059e-02],\n",
       "       [2.40270873e-01, 7.59729127e-01],\n",
       "       [4.26503433e-01, 5.73496567e-01],\n",
       "       [1.50345177e-01, 8.49654823e-01],\n",
       "       [9.22962290e-02, 9.07703771e-01],\n",
       "       [7.62880240e-01, 2.37119760e-01],\n",
       "       [9.52566972e-01, 4.74330285e-02],\n",
       "       [2.91360074e-01, 7.08639926e-01],\n",
       "       [1.15907837e-01, 8.84092163e-01],\n",
       "       [9.18762102e-01, 8.12378983e-02],\n",
       "       [3.07308314e-02, 9.69269169e-01],\n",
       "       [9.94423310e-01, 5.57668951e-03],\n",
       "       [5.13845757e-01, 4.86154243e-01],\n",
       "       [2.50365125e-02, 9.74963488e-01],\n",
       "       [2.25596273e-01, 7.74403727e-01],\n",
       "       [9.68116093e-01, 3.18839070e-02],\n",
       "       [9.99798563e-01, 2.01437463e-04],\n",
       "       [9.92391528e-01, 7.60847227e-03],\n",
       "       [9.99633855e-01, 3.66145189e-04],\n",
       "       [9.86736434e-01, 1.32635658e-02],\n",
       "       [9.94736685e-01, 5.26331527e-03],\n",
       "       [8.31577207e-01, 1.68422793e-01],\n",
       "       [1.79022197e-02, 9.82097780e-01],\n",
       "       [3.81342486e-02, 9.61865751e-01],\n",
       "       [1.23244709e-01, 8.76755291e-01],\n",
       "       [9.97721454e-01, 2.27854638e-03],\n",
       "       [6.29402827e-01, 3.70597173e-01],\n",
       "       [9.48297397e-01, 5.17026031e-02],\n",
       "       [9.76870846e-01, 2.31291540e-02],\n",
       "       [9.94775868e-01, 5.22413170e-03],\n",
       "       [3.31854714e-03, 9.96681453e-01],\n",
       "       [2.14258307e-02, 9.78574169e-01],\n",
       "       [2.26982668e-03, 9.97730173e-01],\n",
       "       [1.48051956e-01, 8.51948044e-01],\n",
       "       [1.07220118e-01, 8.92779882e-01],\n",
       "       [8.71506607e-01, 1.28493393e-01],\n",
       "       [4.24599763e-02, 9.57540024e-01],\n",
       "       [9.98885587e-01, 1.11441342e-03],\n",
       "       [6.53089991e-01, 3.46910009e-01],\n",
       "       [1.41625925e-03, 9.98583741e-01],\n",
       "       [9.29961127e-01, 7.00388729e-02],\n",
       "       [9.98060332e-01, 1.93966811e-03],\n",
       "       [8.02272462e-01, 1.97727538e-01],\n",
       "       [8.24938081e-01, 1.75061919e-01],\n",
       "       [9.98955494e-01, 1.04450635e-03],\n",
       "       [8.37228119e-01, 1.62771881e-01],\n",
       "       [5.87400574e-01, 4.12599426e-01],\n",
       "       [5.79607796e-02, 9.42039220e-01],\n",
       "       [5.80179189e-01, 4.19820811e-01],\n",
       "       [9.93179544e-01, 6.82045640e-03],\n",
       "       [9.25627942e-01, 7.43720585e-02],\n",
       "       [8.14890281e-01, 1.85109719e-01],\n",
       "       [2.85171622e-01, 7.14828378e-01],\n",
       "       [9.98712900e-01, 1.28709994e-03],\n",
       "       [9.85919246e-01, 1.40807537e-02],\n",
       "       [3.96474323e-01, 6.03525677e-01],\n",
       "       [9.97255271e-01, 2.74472929e-03],\n",
       "       [9.99239560e-01, 7.60440043e-04],\n",
       "       [1.91550563e-01, 8.08449437e-01],\n",
       "       [9.98781099e-01, 1.21890149e-03],\n",
       "       [9.99498203e-01, 5.01797189e-04],\n",
       "       [1.17730290e-02, 9.88226971e-01],\n",
       "       [9.93288991e-01, 6.71100918e-03],\n",
       "       [8.54122356e-01, 1.45877644e-01],\n",
       "       [7.82353876e-01, 2.17646124e-01],\n",
       "       [6.76804864e-01, 3.23195136e-01],\n",
       "       [9.98175450e-01, 1.82454959e-03],\n",
       "       [3.90360330e-01, 6.09639670e-01],\n",
       "       [9.96581107e-01, 3.41889307e-03]])"
      ]
     },
     "execution_count": 25,
     "metadata": {},
     "output_type": "execute_result"
    }
   ],
   "source": [
    "Y_prob = cls.predict_proba(X)\n",
    "Y_prob"
   ]
  },
  {
   "cell_type": "code",
   "execution_count": 26,
   "metadata": {},
   "outputs": [
    {
     "data": {
      "text/plain": [
       "array([0, 0, 0, 1, 1, 0, 1, 0, 1, 1, 1, 0, 1, 1, 0, 1, 0, 0, 1, 1, 0, 1,\n",
       "       0, 0, 1, 1, 1, 1, 0, 0, 1, 1, 0, 0, 0, 0, 1, 1, 0, 0, 1, 0, 1, 1,\n",
       "       0, 0, 1, 1, 1, 1, 1, 1, 1, 0, 0, 0, 1, 1, 1, 1, 1, 0, 0, 0, 0, 0,\n",
       "       1, 0, 1, 1, 0, 1, 1, 1, 1, 1, 1, 1, 0, 1, 1, 1, 1, 0, 1, 1, 0, 1,\n",
       "       1, 0, 1, 1, 0, 1, 1, 1, 1, 1, 0, 1])"
      ]
     },
     "execution_count": 26,
     "metadata": {},
     "output_type": "execute_result"
    }
   ],
   "source": [
    "Y_hat = cls.predict(X)\n",
    "Y_hat"
   ]
  },
  {
   "cell_type": "code",
   "execution_count": 27,
   "metadata": {},
   "outputs": [
    {
     "data": {
      "text/plain": [
       "0.89"
      ]
     },
     "execution_count": 27,
     "metadata": {},
     "output_type": "execute_result"
    }
   ],
   "source": [
    "accuracy_score(Y, Y_hat)"
   ]
  },
  {
   "cell_type": "code",
   "execution_count": 28,
   "metadata": {},
   "outputs": [
    {
     "data": {
      "image/png": "[encoded data removed]",
      "text/plain": [
       "<Figure size 432x288 with 1 Axes>"
      ]
     },
     "metadata": {
      "needs_background": "light"
     },
     "output_type": "display_data"
    }
   ],
   "source": [
    "plot_data(X, Y)\n",
    "plot_surface(cls, X[:, 0], X[:, 1])"
   ]
  },
  {
   "cell_type": "code",
   "execution_count": 29,
   "metadata": {},
   "outputs": [],
   "source": [
    "from sklearn.neural_network import MLPClassifier\n",
    "clf = MLPClassifier(hidden_layer_sizes = (650,), max_iter = 10000, activation = 'tanh', solver = 'sgd', learning_rate_init = 0.0005, learning_rate = 'constant')"
   ]
  },
  {
   "cell_type": "code",
   "execution_count": 30,
   "metadata": {},
   "outputs": [
    {
     "data": {
      "text/plain": [
       "MLPClassifier(activation='tanh', hidden_layer_sizes=(650,),\n",
       "              learning_rate_init=0.0005, max_iter=10000, solver='sgd')"
      ]
     },
     "execution_count": 30,
     "metadata": {},
     "output_type": "execute_result"
    }
   ],
   "source": [
    "clf.fit(X, Y)"
   ]
  },
  {
   "cell_type": "code",
   "execution_count": 31,
   "metadata": {},
   "outputs": [
    {
     "data": {
      "image/png": "[encoded data removed]",
      "text/plain": [
       "<Figure size 432x288 with 1 Axes>"
      ]
     },
     "metadata": {
      "needs_background": "light"
     },
     "output_type": "display_data"
    }
   ],
   "source": [
    "plot_data(X, Y)\n",
    "plot_surface(clf, X[:, 0], X[:, 1])"
   ]
  },
  {
   "cell_type": "code",
   "execution_count": 32,
   "metadata": {},
   "outputs": [
    {
     "data": {
      "text/plain": [
       "0.95"
      ]
     },
     "execution_count": 32,
     "metadata": {},
     "output_type": "execute_result"
    }
   ],
   "source": [
    "accuracy_score(Y, clf.predict(X))"
   ]
  },
  {
   "cell_type": "code",
   "execution_count": null,
   "metadata": {},
   "outputs": [],
   "source": []
  },
  {
   "cell_type": "code",
   "execution_count": null,
   "metadata": {},
   "outputs": [],
   "source": []
  }
 ],
 "metadata": {
  "anaconda-cloud": {},
  "kernelspec": {
   "display_name": "Python 3",
   "language": "python",
   "name": "python3"
  },
  "language_info": {
   "codemirror_mode": {
    "name": "ipython",
    "version": 3
   },
   "file_extension": ".py",
   "mimetype": "text/x-python",
   "name": "python",
   "nbconvert_exporter": "python",
   "pygments_lexer": "ipython3",
   "version": "3.8.0"
  }
 },
 "nbformat": 4,
 "nbformat_minor": 1
}
